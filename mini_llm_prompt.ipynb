{
 "cells": [
  {
   "cell_type": "markdown",
   "metadata": {},
   "source": [
    "# Gpt 2 General "
   ]
  },
  {
   "cell_type": "code",
   "execution_count": 5,
   "metadata": {},
   "outputs": [
    {
     "name": "stderr",
     "output_type": "stream",
     "text": [
      "Setting `pad_token_id` to `eos_token_id`:50256 for open-end generation.\n"
     ]
    },
    {
     "name": "stdout",
     "output_type": "stream",
     "text": [
      " what is the best type of dog?\n",
      "\n",
      "I've never met the breed I'm choosing for my new pup. I like to be the kind of pup that is smart and loves to play. If you have a dog that loves chasing after people, I would say a little bit of everything. The one thing I can't stand is a lot of dogs that go for walks and seem to take off when they're playing, and are always chasing. When I first started looking for a new dog, the most things I looked for were a big, strong, good-natured dog. It was just something I always wanted to have.\n",
      ", a 6 year old. My wife and I bought the house. We wanted a large, comfortable house and a nice yard. Our first choice was the English bulldog. He is very sweet and has a very loyal heart, but he is also a bit loud and loud. In my opinion, English bulls are not the right dog for our home\n"
     ]
    }
   ],
   "source": [
    "# from transformers import AutoModelForCausalLM, AutoTokenizer\n",
    "# # Specify the path to your local model\n",
    "# model_path = r\"D:/Data/OneDrive/Ccantu/OneDrive - CFTC/Documents/Python Scripts/GPT2\"\n",
    "\n",
    "# # Load the model from the local path\n",
    "# model = AutoModelForCausalLM.from_pretrained(model_path)\n",
    "# tokenizer = AutoTokenizer.from_pretrained(model_path)\n",
    "\n",
    "# # input prompt \n",
    "# prompt = ' what is the best type of dog?'\n",
    "# #Once upon a time in a land far, far away\n",
    "# #what is time\n",
    "\n",
    "# # Encode\n",
    "# inputs = tokenizer(prompt, return_tensors='pt') \n",
    "\n",
    "# # Generate text based on prompt\n",
    "# outputs = model.generate(\n",
    "#     **inputs,\n",
    "#     max_length=200,\n",
    "#     num_return_sequences=1,\n",
    "#     no_repeat_ngram_size=2,\n",
    "#     temperature=0.7,\n",
    "#     top_k=50,\n",
    "#     top_p=0.95,\n",
    "#     do_sample=True\n",
    "# )\n",
    "# # Decode \n",
    "# generated_text = tokenizer.decode(outputs[0], skip_special_tokens=True)\n",
    "\n",
    "# print(generated_text)"
   ]
  },
  {
   "cell_type": "code",
   "execution_count": 9,
   "metadata": {},
   "outputs": [],
   "source": [
    "import nltk\n"
   ]
  },
  {
   "cell_type": "markdown",
   "metadata": {},
   "source": [
    "# Legal model \n",
    " designed to select the most relevant sentences based on their similarity scores, does not work well for short, concise text "
   ]
  },
  {
   "cell_type": "code",
   "execution_count": 21,
   "metadata": {},
   "outputs": [
    {
     "name": "stdout",
     "output_type": "stream",
     "text": [
      "Loading the Legal-BERT model from 'D:/Data/OneDrive/Ccantu/OneDrive - CFTC\\Documents/Python Scripts/BERT-Legal'...\n",
      "Legal-BERT model loaded successfully!\n",
      "\n",
      "Original text:\n",
      "Allocation   means the process by which an agent, having facilitated a single swap transaction on behalf of several clients, allocates a portion of the executed swap to the clients.  As soon as technologically practicable   means as soon as possible, taking into consideration the prevalence, implementation, and use of technology by comparable market participants.  Asset class   means a broad category of commodities, including, without limitation, any “excluded commodity” as defined in section 1a(19) of the Act, with common characteristics underlying a swap. The asset classes include interest rate, foreign exchange, credit, equity, other commodity, and such other asset classes as may be determined by the Commission.  Business day   means the twenty-four-hour day, on all days except Saturdays, Sundays, and legal holidays, in the location of the swap execution facility, designated contract market, or reporting counterparty reporting data for the swap.  Business hours   means consecutive hours during one or more consecutive business days.  Clearing swap   means a swap created pursuant to the rules of a derivatives clearing organization that has a derivatives clearing organization as a counterparty, including any swap that replaces an original swap that was extinguished upon acceptance of such original swap by the derivatives clearing organization for clearing.  Collateral data   means the data elements necessary to report information about the money, securities, or other property posted or received by a swap counterparty to margin, guarantee, or secure a swap, as specified in appendix 1 to this part.  Derivatives clearing organization   means a derivatives clearing organization, as defined by § 1.3 of this chapter, that is registered with the Commission.  Electronic reporting   (“report electronically”) means the reporting of data normalized in data elements as required by the data standard or standards used by the swap data repository to which the data is reported. Except where specifically otherwise provided in this chapter, electronic reporting does not include submission of an image of a document or text file.  Execution   means an agreement by the parties, by any method, to the terms of a swap that legally binds the parties to such swap terms under applicable law.  Execution date   means the date of execution of a particular swap. The execution date for a clearing swap that replaces an original swap is the date on which the original swap has been accepted for clearing.  Financial entity   has the meaning set forth in CEA section 2(h)(7)(C).  Global Legal Entity Identifier System   means the system established and overseen by the Legal Entity Identifier Regulatory Oversight Committee for the unique identification of legal entities and individuals.  Legal entity identifier or LEI   means a unique code assigned to swap counterparties and entities in accordance with the standards set by the Global Legal Entity Identifier System.  Legal Entity Identifier Regulatory Oversight Committee   means the group charged with the oversight of the Global Legal Entity Identifier System that was established by the Finance Ministers and the Central Bank Governors of the Group of Twenty nations and the Financial Stability Board, under the Charter of the Regulatory Oversight Committee for the Global Legal Entity Identifier System dated November 5, 2012, or any successor thereof.  Life-cycle event   means any event that would result in a change to required swap creation data previously reported to a swap data repository in connection with a swap. Examples of such events include, without limitation, a counterparty change resulting from an assignment or novation; a partial or full termination of the swap; a change to the end date for the swap; a change in the cash flows or rates originally reported; availability of a legal entity identifier for a swap counterparty previously identified by some other identifier; or a corporate action affecting a security or securities on which the swap is based (e.g., a merger, dividend, stock split, or bankruptcy).  Life-cycle-event data   means all of the data elements necessary to fully report any life cycle event.  Mixed swap   has the meaning set forth in CEA section 1a(47)(D), and refers to an instrument that is in part a swap subject to the jurisdiction of the Commission, and in part a security-based swap subject to the jurisdiction of the Securities and Exchange Commission.  Multi-asset swap   means a swap that does not have one easily identifiable primary underlying notional item, but instead involves multiple underlying notional items within the Commission's jurisdiction that belong to different asset classes.  Non-SD/MSP/DCO counterparty   means a swap counterparty that is not a swap dealer, major swap participant, or derivatives clearing organization.  Non-SD/MSP/DCO reporting counterparty   means a reporting counterparty that is not a swap dealer, major swap participant, or derivatives clearing organization.  Novation   means the process by which a party to a swap legally transfers all or part of its rights, liabilities, duties, and obligations under the swap to a new legal party other than the counterparty to the swap under applicable law.  Off-facility swap   means any swap transaction that is not executed on or pursuant to the rules of a swap execution facility or designated contract market.  Open swap   means an executed swap transaction that has not reached maturity or expiration, and has not been fully exercised, closed out, or terminated.  Original swap   means a swap that has been accepted for clearing by a derivatives clearing organization.  Reporting counterparty   means the counterparty required to report swap data pursuant to this part, selected as provided in § 45.8.  Required swap continuation data   means all of the data elements that must be reported during the existence of a swap to ensure that all swap data concerning the swap in the swap data repository remains current and accurate, and includes all changes to the required swap creation data occurring during the existence of the swap. For this purpose, required swap continuation data includes:  (i) All life-cycle-event data for the swap; and  (ii) All swap valuation, margin, and collateral data for the swap.\n",
      "\n",
      "Legal-BERT processing complete. Output shape: (768,)\n",
      "\n",
      "Generated summary:\n",
      "Required swap continuation data   means all of the data elements that must be reported during the existence of a swap to ensure that all swap data concerning the swap in the swap data repository remains current and accurate, and includes all changes to the required swap creation data occurring during the existence of the swap. Clearing swap   means a swap created pursuant to the rules of a derivatives clearing organization that has a derivatives clearing organization as a counterparty, including any swap that replaces an original swap that was extinguished upon acceptance of such original swap by the derivatives clearing organization for clearing. Electronic reporting   (“report electronically”) means the reporting of data normalized in data elements as required by the data standard or standards used by the swap data repository to which the data is reported.\n"
     ]
    }
   ],
   "source": [
    "# from transformers import AutoTokenizer, AutoModel\n",
    "# import torch\n",
    "# import numpy as np\n",
    "# from sklearn.feature_extraction.text import TfidfVectorizer\n",
    "# from sklearn.metrics.pairwise import cosine_similarity\n",
    "# import nltk\n",
    "# # Specify the directory where punkt is already downloaded\n",
    "# nltk_data_dir = r\"D:/Data/OneDrive/Ccantu/OneDrive - CFTC/Documents/Python Scripts/punkt\"\n",
    "\n",
    "# # Add the directory to NLTK's data path\n",
    "# nltk.data.path.append(nltk_data_dir)\n",
    "\n",
    "# def load_local_legal_bert():\n",
    "#     model_path = r\"D:/Data/OneDrive/Ccantu/OneDrive - CFTC\\Documents/Python Scripts/BERT-Legal\"\n",
    "#     print(f\"Loading the Legal-BERT model from '{model_path}'...\")\n",
    "    \n",
    "#     tokenizer = AutoTokenizer.from_pretrained(model_path)\n",
    "#     model = AutoModel.from_pretrained(model_path)\n",
    "\n",
    "#     print(\"Legal-BERT model loaded successfully!\")\n",
    "#     return tokenizer, model\n",
    "\n",
    "# def extractive_summarize(text, num_sentences=3):\n",
    "#     sentences = nltk.sent_tokenize(text)\n",
    "    \n",
    "#     # Create TF-IDF matrix\n",
    "#     vectorizer = TfidfVectorizer()\n",
    "#     tfidf_matrix = vectorizer.fit_transform(sentences)\n",
    "    \n",
    "#     # Compute sentence similarities\n",
    "#     sentence_similarities = cosine_similarity(tfidf_matrix, tfidf_matrix)\n",
    "    \n",
    "#     # Rank sentences based on similarity scores\n",
    "#     sentence_scores = sentence_similarities.sum(axis=1)\n",
    "#     ranked_sentences = [sentences[i] for i in np.argsort(sentence_scores)[::-1]]\n",
    "    \n",
    "#     # Select top sentences\n",
    "#     summary = ' '.join(ranked_sentences[:num_sentences])\n",
    "#     return summary\n",
    "\n",
    "# def process_with_legal_bert(text, tokenizer, model):\n",
    "#     inputs = tokenizer(text, return_tensors=\"pt\", padding=True, truncation=True, max_length=512)\n",
    "#     with torch.no_grad():\n",
    "#         outputs = model(**inputs)\n",
    "#     return outputs.last_hidden_state.mean(dim=1).squeeze().numpy()\n",
    "\n",
    "# # Load Legal-BERT\n",
    "# legal_bert_tokenizer, legal_bert_model = load_local_legal_bert()\n",
    "\n",
    "# # Example legal text\n",
    "# # text = \"\"\"\n",
    "\n",
    "# # Except where otherwise expressly provided in this Covenant or by the terms of the present Treaty, decisions at any meeting of the Assembly or of the Council shall require the agreement of all the Members of the League represented atthe meeting. All matters of procedure at meetings of the Assembly or of the Council, including the appointment of Committees to investigate particular matters, shall be regulated by the Assembly orby the Council and may be decided by a majority of the Members of the League represented at the meeting. Thefirst meeting of the Assembly and the first meeting of the Council shall be summoned by the President of the United States of America.\n",
    "# # \"\"\"\n",
    "# text = input(\"Enter the legal text: \")\n",
    "\n",
    "# print(\"\\nOriginal text:\")\n",
    "# print(text)\n",
    "\n",
    "# # Process with Legal-BERT\n",
    "# bert_output = process_with_legal_bert(text, legal_bert_tokenizer, legal_bert_model)\n",
    "# print(\"\\nLegal-BERT processing complete. Output shape:\", bert_output.shape)\n",
    "\n",
    "# # Generate summary\n",
    "# summary = extractive_summarize(text)\n",
    "# print(\"\\nGenerated summary:\")\n",
    "# print(summary)"
   ]
  },
  {
   "cell_type": "markdown",
   "metadata": {},
   "source": [
    "# Export to text file "
   ]
  },
  {
   "cell_type": "code",
   "execution_count": 22,
   "metadata": {},
   "outputs": [
    {
     "name": "stdout",
     "output_type": "stream",
     "text": [
      "\n",
      "Summary has been exported to 'summary.txt'.\n"
     ]
    }
   ],
   "source": [
    "# # Export summary to a text file\n",
    "# with open(\"summary.txt\", \"w\", encoding=\"utf-8\") as f:\n",
    "#     f.write(summary)\n",
    "\n",
    "# print(f\"\\nSummary has been exported to 'summary.txt'.\")"
   ]
  },
  {
   "cell_type": "markdown",
   "metadata": {},
   "source": [
    "# Examples "
   ]
  },
  {
   "cell_type": "code",
   "execution_count": null,
   "metadata": {},
   "outputs": [],
   "source": [
    "# \"\"\"\n",
    "# The court finds that pursuant to Section 230 of the Communications Decency Act, \n",
    "# the defendant is not liable for the user-generated content posted on its platform. \n",
    "# The plaintiff's claims are therefore dismissed with prejudice. The court notes that \n",
    "# Section 230 provides broad immunity to internet service providers for content created \n",
    "# by third parties. This immunity is essential for the functioning of the modern internet \n",
    "# and has been consistently upheld by numerous court decisions. The plaintiff's argument \n",
    "# that the defendant should be held liable for failing to remove the content in question \n",
    "# is not supported by existing case law or the plain language of the statute.\n",
    "# \"\"\"\n",
    "# \"\"\"\n",
    "# The original Members of the League of Nations shall be those of the Signatories which are named in the Annex to this Covenant and also such of those other States named in the Annex as shall accede without reservation to this Covenant. Such accession shall be effected by a Declaration deposited with the Secretariat within two months of the coming into force of the Covenant. Norice thereof shall be sent to all other Members of the League.TREATY OF VERSAILLES-JUNE 28, 1919 49 Any fully self-governing State, Dominion or Colony not named in the Annex may become a Member of the League if its admission is agreed to by two-thirds of the Assembly, provided that itshall give effective guarantees of its sincere intention to observe its international obligations, and shall accept such regulations as may be prescribed by the League in regard to its military, naval and airforces andarmaments. Any Member of the League may, after two years' notice of its intention so to do, withdraw from the League, provided that all its international obligations and all its obligations under this Covenant shall have been fulfilled at the time of its withdrawal.\n",
    "\n",
    "# \"\"\""
   ]
  },
  {
   "cell_type": "markdown",
   "metadata": {},
   "source": [
    "# legal model + search "
   ]
  },
  {
   "cell_type": "code",
   "execution_count": 6,
   "metadata": {},
   "outputs": [
    {
     "name": "stdout",
     "output_type": "stream",
     "text": [
      "Loading the Legal-BERT model from 'D:/Data/OneDrive/Ccantu/OneDrive - CFTC\\Documents/Python Scripts/BERT-Legal'...\n",
      "Legal-BERT model loaded successfully!\n",
      "\n",
      "Original text:\n",
      "legation of authority to the Director of the Division of Market Oversight.  The Commission hereby delegates to the Director of the Division of Market Oversight, until the Commission orders otherwise, the authority set forth in § 45.13(a)(1), to be exercised by the Director of the Division of Market Oversight or by such other employee or employees of the Commission as may be designated from time to time by the Director of the Division of Market Oversight. The Director of the Division of Market Oversight may submit to the Commission for its consideration any matter which has been delegated pursuant to this paragraph. Nothing in this paragraph prohibits the Commission, at its election, from exercising the authority delegated in this paragraph. The authority delegated to the Director of the Division of Market Oversight by this paragraph (b) shall include:  (1) The authority to publish the technical specifications providing the form and manner for reporting the swap data elements in appendix 1 to this part to swap data repositories as provided in § 45.13(a)(1);  (2) The authority to determine whether the Commission may permit or require use by swap execution facilities, designated contract markets, derivatives clearing organizations, or reporting counterparties in reporting pursuant to § 45.13(a)(1) of one or more particular data standards (such as FIX, FpML, ISO 20022, or some other standard), to accommodate the needs of different communities of users;  (3) The dates and times at which required swap creation data or required swap continuation data shall be reported pursuant to § 45.13(a)(1); and  (4) The Director of the Division of Market Oversight shall publish from time to time in the Federal Register and on the website of the Commission the technical specifications for swap data reporting pursuant to § 45.13(a)(1).\n",
      "\n",
      "Legal-BERT processing complete. Output shape: (768,)\n",
      "\n",
      "Generated Summary:\n",
      "The Commission hereby delegates to the Director of the Division of Market Oversight, until the Commission orders otherwise, the authority set forth in § 45.13(a)(1), to be exercised by the Director of the Division of Market Oversight or by such other employee or employees of the Commission as may be designated from time to time by the Director of the Division of Market Oversight. legation of authority to the Director of the Division of Market Oversight. The Director of the Division of Market Oversight may submit to the Commission for its consideration any matter which has been delegated pursuant to this paragraph.\n",
      "\n",
      "Found 1 match(es) for 'swap ':\n",
      "1. The authority delegated to the Director of the Division of Market Oversight by this paragraph (b) shall include:  (1) The authority to publish the technical specifications providing the form and manner for reporting the swap data elements in appendix 1 to this part to swap data repositories as provided in § 45.13(a)(1);  (2) The authority to determine whether the Commission may permit or require use by swap execution facilities, designated contract markets, derivatives clearing organizations, or reporting counterparties in reporting pursuant to § 45.13(a)(1) of one or more particular data standards (such as FIX, FpML, ISO 20022, or some other standard), to accommodate the needs of different communities of users;  (3) The dates and times at which required swap creation data or required swap continuation data shall be reported pursuant to § 45.13(a)(1); and  (4) The Director of the Division of Market Oversight shall publish from time to time in the Federal Register and on the website of the Commission the technical specifications for swap data reporting pursuant to § 45.13(a)(1).\n"
     ]
    }
   ],
   "source": [
    "# from transformers import AutoTokenizer, AutoModel\n",
    "# import torch\n",
    "# import numpy as np\n",
    "# from sklearn.feature_extraction.text import TfidfVectorizer\n",
    "# from sklearn.metrics.pairwise import cosine_similarity\n",
    "# import nltk\n",
    "# import re \n",
    "# # Specify the directory where punkt is already downloaded\n",
    "# nltk_data_dir = r\"D:/Data/OneDrive/Ccantu/OneDrive - CFTC/Documents/Python Scripts/punkt\"\n",
    "\n",
    "# # Add the directory to NLTK's data path\n",
    "# nltk.data.path.append(nltk_data_dir)\n",
    "\n",
    "# def load_local_legal_bert():\n",
    "#     model_path = r\"D:/Data/OneDrive/Ccantu/OneDrive - CFTC\\Documents/Python Scripts/BERT-Legal\"\n",
    "#     print(f\"Loading the Legal-BERT model from '{model_path}'...\")\n",
    "    \n",
    "#     tokenizer = AutoTokenizer.from_pretrained(model_path)\n",
    "#     model = AutoModel.from_pretrained(model_path)\n",
    "\n",
    "#     print(\"Legal-BERT model loaded successfully!\")\n",
    "#     return tokenizer, model\n",
    "\n",
    "# def extractive_summarize(text, num_sentences=3):\n",
    "#     sentences = nltk.sent_tokenize(text)\n",
    "    \n",
    "#     # Create TF-IDF matrix\n",
    "#     vectorizer = TfidfVectorizer()\n",
    "#     tfidf_matrix = vectorizer.fit_transform(sentences)\n",
    "    \n",
    "#     # Compute sentence similarities\n",
    "#     sentence_similarities = cosine_similarity(tfidf_matrix, tfidf_matrix)\n",
    "    \n",
    "#     # Rank sentences based on similarity scores\n",
    "#     sentence_scores = sentence_similarities.sum(axis=1)\n",
    "#     ranked_sentences = [sentences[i] for i in np.argsort(sentence_scores)[::-1]]\n",
    "    \n",
    "#     # Select top sentences\n",
    "#     summary = ' '.join(ranked_sentences[:num_sentences])\n",
    "#     return summary\n",
    "\n",
    "# def process_with_legal_bert(text, tokenizer, model):\n",
    "#     inputs = tokenizer(text, return_tensors=\"pt\", padding=True, truncation=True, max_length=512)\n",
    "#     with torch.no_grad():\n",
    "#         outputs = model(**inputs)\n",
    "#     return outputs.last_hidden_state.mean(dim=1).squeeze().numpy()\n",
    "\n",
    "# def search_document(text, search_term):\n",
    "#     sentences = nltk.sent_tokenize(text)\n",
    "#     matches = []\n",
    "#     for sentence in sentences:\n",
    "#         if re.search(search_term, sentence, re.IGNORECASE):\n",
    "#             matches.append(sentence)\n",
    "#     return matches\n",
    "\n",
    "# # Load Legal-BERT\n",
    "# legal_bert_tokenizer, legal_bert_model = load_local_legal_bert()\n",
    "\n",
    "# # Example legal text\n",
    "# # text = \"\"\"\n",
    "\n",
    "# # Except where otherwise expressly provided in this Covenant or by the terms of the present Treaty, decisions at any meeting of the Assembly or of the Council shall require the agreement of all the Members of the League represented atthe meeting. All matters of procedure at meetings of the Assembly or of the Council, including the appointment of Committees to investigate particular matters, shall be regulated by the Assembly orby the Council and may be decided by a majority of the Members of the League represented at the meeting. Thefirst meeting of the Assembly and the first meeting of the Council shall be summoned by the President of the United States of America.\n",
    "# # \"\"\"\n",
    "# text = input(\"Enter the legal text: \")\n",
    "\n",
    "# print(\"\\nOriginal text:\")\n",
    "# print(text)\n",
    "\n",
    "# # Process with Legal-BERT\n",
    "# bert_output = process_with_legal_bert(text, legal_bert_tokenizer, legal_bert_model)\n",
    "# print(\"\\nLegal-BERT processing complete. Output shape:\", bert_output.shape)\n",
    "\n",
    "# # Generate summary\n",
    "# summary = extractive_summarize(text)\n",
    "# print(\"\\nGenerated Summary:\")\n",
    "# print(summary)\n",
    "\n",
    "# while True:\n",
    "#     search_term = input(\"\\Enter a search term (or q to exit):\")\n",
    "#     if search_term.lower() == 'q':\n",
    "#         break \n",
    "#     matches = search_document(text, search_term)\n",
    "#     if matches:\n",
    "#         print(f\"\\nFound {len(matches)} match(es) for '{search_term}':\")\n",
    "#         for i, match in enumerate(matches, 1):\n",
    "#             print(f\"{i}. {match}\")\n",
    "#     else:\n",
    "#         print(f\"No matches found for '{search_term}'.\")\n",
    "\n",
    "# #print(\"Thank you for using the Legal-BERT search tool!\")\n"
   ]
  },
  {
   "cell_type": "markdown",
   "metadata": {},
   "source": [
    "# Tuning legal model + search \n",
    "\n",
    "Adding extract_definitions to identify and extract definitions from the input text. It uses a regular expression pattern to find sentences that may contain definition like structures.\n",
    "\n",
    "Moded score_sentence to take into account the relevance of the sentence to the defined terms. If a sentence contains a defined term or its definition, the sentence score is increased.\n",
    "\n",
    "Added a section to print the extracted definitions after loading."
   ]
  },
  {
   "cell_type": "code",
   "execution_count": 1,
   "metadata": {},
   "outputs": [
    {
     "name": "stdout",
     "output_type": "stream",
     "text": [
      "Loading the Legal-BERT model from 'D:/Data/OneDrive/Ccantu/OneDrive - CFTC\\Documents/Python Scripts/BERT-Legal'...\n",
      "Legal-BERT model loaded successfully!\n",
      "\n",
      "Original text:\n",
      "The Division of Clearing and Risk (“Division”) of the Commodity Futures Trading Commission (the “Commission” or “CFTC”) is replacing CFTC Letter 16-26,1 which applied to European Union (“EU”)-based central counterparties (“CCPs”) that are registered with the Commission as derivatives clearing organizations (“DCOs”). This letter addresses the same Commission requirements discussed in CFTC Letter 16-26 for EU-based DCOs and extends the no-action position taken therein to DCOs based in the United Kingdom (“UK”) that are registered with the Commission (together “DCOs/CCPs”): (1) Regulation 39.12(b)(6)’s requirement that, upon a DCO’s acceptance of a swap for clearing, the original swap is extinguished and it is replaced by an equal and opposite swap between the DCO and each clearing member (acting as a principal for a house trade or an agent for a customer trade) will not apply in the context of a DCO/CCP where neither party is a U.S. clearing member or a futures commission merchant (“FCM”) clearing member; (2) Part 22 of CFTC Regulations and its “legally segregated but operationally commingled” (“LSOC”) account model for cleared swaps customer accounts will not apply in the context of a DCO/CCP to clearing members that are not FCMs; (3) Regulation 39.13(g)(8)(i)’s requirement that a DCO calculate and collect 1 CFTC Letter No. 16-26 (Mar. 16, 2016). Page 2 initial margin for customer accounts cleared by an FCM on a gross basis will not apply in the context of a DCO/CCP to non-FCM clearing member intermediaries; (4) Regulation 39.13(g)(8)(ii)’s requirement that a DCO collect initial margin at a level that is not less than 100% of the DCO’s clearing initial margin requirements for positions of FCM customers will not apply in the context of a DCO/CCP to such positions of the customers of non-FCM clearing member intermediaries; (5) Regulation 39.12(a)(2)(iii)’s prohibition that a DCO not set a minimum capital requirement of more than $50 million for any person that seeks to become a clearing member to clear swaps will not apply in the context of a DCO/CCP to non-U.S. clearing members or non-FCM clearing members; (6) Regulation 39.12(b)(7)’s requirement that DCOs utilize “straight-through-processing” of swaps submitted for clearing will not apply to trades that are not executed on or subject to the rules of a designated contract market (“DCM”) or a swap execution facility (“SEF”) and for which neither clearing member is an FCM, a swap dealer, or a major swap participant; and (7) Regulation 39.13(h)(5)’s requirement that DCOs must require their clearing members to maintain written risk management policies and procedures and that DCOs must have the authority to obtain information and documents from clearing members regarding their risk will still apply; however, a DCO/CCP may implement different oversight programs for U.S./FCM clearing members and non-U.S. clearing members.2 CFTC Letter 16-26 was issued simultaneously with the Commission’s comparability determination3 regarding the European Market Infrastructure Regulation (“EMIR”)4 (the “EU comparability determination”). In particular, the EU comparability determination concludes that certain laws and regulations applicable in the EU provide a sufficient basis for an affirmative finding of comparability with respect to certain regulatory obligations applicable to DCOs that are registered with the Commission and are authorized to operate as CCPs in the EU. 2 CFTC Letter 16-26 also covered Regulations 39.11(f) and 39.19(c)(3)(ii), which together required DCOs to prepare and submit to the Commission quarterly financial resources reports and audited year-end financial statements in accordance with U.S. generally accepted accounting principles (“GAAP”), and allowed a DCO/CCP to prepare and submit these materials using International Financial Reporting Standards (“IFRS”). A no-action position is no longer needed with respect to these provisions because, following the 2020 amendment of Regulation 39.11(f), non-U.S. DCOs now have the option to submit these materials in either GAAP or IFRS. See Derivatives Clearing Organization General Provisions and Core Principles, 85 Fed. Reg. 4800, 4838 (Jan. 27, 2020). 3 Comparability Determination for the European Union: Dually-Registered Derivatives Clearing Organizations and Central Counterparties, 81 Fed. Reg. 15260 (Mar. 22, 2016). 4 See Regulation (EU) No 648/2012 of the European Parliament and the Council on OTC derivatives, central counterparties and trade repositories of 4 July 2012, Art. 25(6). Page 3 Under the EU comparability determination, EU-based DCOs that are registered with the Commission and that are authorized to operate as CCPs in the EU may demonstrate compliance with certain Commission requirements for financial resources, risk management, settlement procedures, and default rules and procedures by complying with the terms of corresponding requirements under the EMIR Framework, as defined in the EU comparability determination. After the UK’s withdrawal from the EU in 2019,5 the UK subsequently adopted and retained the EMIR regulatory framework for UK-based CCPs, in what is referred to as “UK EMIR.”6 Thereafter, in late 2023, HM Treasury published a statutory instrument concluding that the Commission’s regime for the regulation of DCOs is equivalent to the UK’s regime for the regulation of CCPs set forth in UK EMIR.7 Given these developments with respect to UK-based DCOs, and the Commission’s ongoing efforts to facilitate cross-border regulatory coordination, cooperation, and comity, the Division is extending the no-action position taken in CFTC Letter 16-26 to UK-based DCOs. Background The Commodity Exchange Act (“CEA”) does not impose geographic limitations on the registration of DCOs. Nor does it mandate that clearing of futures traded on U.S. exchanges must take place in the United States.8 To the contrary, it permits futures traded on exchanges in the United States to be cleared outside the United States. However, the CEA and CFTC regulations require that foreign-based CCPs that wish to clear such futures be registered with the Commission and comply with CFTC regulations.9 Under this regulatory framework, a number of foreign-based CCPs have been registered with the Commission for some time. LCH Ltd., which is based in London, for example, has been registered with the Commission since 2001, and thus has been subject to dual supervision by UK authorities and the Commission since long before the EU adopted its current regulatory scheme – EMIR. This dual registration system has been a foundation on which the cleared swaps market grew to be a global market. In addition to LCH Ltd., there are currently four other registered foreign-based DCOs that are subject to the dual registration of the Commission and their home country regulator(s): LCH SA (home country regulators are the Autorité de contrôle prudentiel et résolution, the Autorité des marchés financiers, and the Banque de 5 See Agreement on the withdrawal of the United Kingdom of Great Britain and Northern Ireland from the European Union and the European Atomic Energy Community 2019/C 384 I/01 (Nov. 12, 2019), available at https://eur-lex.europa.eu/legal-content/EN/TXT/?uri=CELEX%3A12019W/TXT%2802%29. 6 See European Union (Withdrawal) Act 2018. This Act transposed relevant EU law and regulations into UK law and regulations, and granted existing authority vested in certain EU institutions to the Financial Conduct Authority, the Bank of England including the Prudential Regulation Authority, and HM Treasury. 7 See The Central Counterparties (Equivalence) (United States of America) (Commodity Futures Trading Commission) Regulations 2023. See also Joint Statement by UK and US on Continuity of Derivatives Trading and Clearing Post-Brexit, available at https://www.cftc.gov/PressRoom/PressReleases/7876-19 (announcing the Commission’s commitment to extending existing staff action to EU firms, including UK firms, to UK firms at the point of the UK’s withdrawal from the EU). 8 7 USC § 7a-1(a). 9 See generally 7 USC §§ 7(d)(9)(iii) and (11); 17 CFR § 38.601. Page 4 France), ICE Clear Europe Ltd. (home country regulator is the Bank of England), ICE NGX Canada Inc. (home country regulator is the Alberta Securities Commission) and Eurex Clearing AG (home country regulators are Bundesanstalt für Finanzdienstleistungsaufsicht (BaFin) and Deutsche Bundesbank). Following the financial crisis of 2008, the United States and the EU undertook efforts to regulate over-the-counter (“OTC”) derivatives markets and market participants. For swaps, Title VII of the Dodd-Frank Wall Street Reform and Consumer Protection Act (“Dodd-Frank Act”)10 amended the CEA to, among other things, establish a comprehensive statutory framework for the execution and clearing of swaps. Section 5b(a) of the CEA, as amended by the Dodd-Frank Act, establishes a comprehensive regulatory framework for clearing organizations that clear swaps, including (i) registration, operation, and compliance requirements for DCOs; and (ii) 17 core principles.11 Applicants and registered DCOs are required to comply with the core principles as a condition of obtaining and maintaining their registration as a DCO. Thus, the registration of foreign-based CCPs clearing U.S. markets or serving U.S. persons is an important part of the Commission’s regulatory scheme. Nevertheless, the Commission has taken steps to calibrate its regulatory approach to non-U.S. DCOs over time to balance the interests of comity and cross-border regulatory coordination with the requirements of the DCO core principles in the CEA and the regulations promulgated thereunder. The EU comparability determination is an example of this approach. Other examples are the exemptions from DCO registration that the Commission has provided for non-U.S. CCPs that clear proprietary swap positions for their U.S. members and affiliates.12 More recently, the Commission adopted regulations to permit non-U.S. DCOs to be registered with the Commission yet comply with the DCO core principles set forth in the CEA through compliance with their home country regulatory regimes, subject to certain conditions and limitations.13 Additionally, the Commission adopted regulations that formalize the framework the Commission has used to grant exemptions from DCO registration.14 10 Section 701 et seq. of the Dodd-Frank Wall Street Reform and Consumer Protection Act, Pub. L. No. 111-203, 124 Stat. 1376 (2010). 11 7 USC § 7a-1(a); 17 CFR § 39.3; see also 7 USC § 2(i) (providing that the CEA’s swap-related provisions shall not apply to activities outside the United States unless those activities “have a direct and significant connection with activities in, or effect on, commerce of the United States” or “contravene such rules or regulations as the Commission may prescribe or promulgate as are necessary or appropriate to prevent the evasion of any provision of [the CEA]”). 12 See In re Petition of ASX Clear (Futures) Pty Limited for Exemption from Registration as a Derivatives Clearing Organization (Aug. 18, 2015); In re Petition of Japan Securities Clearing Corp. for Exemption from Registration as a Derivatives Clearing Organization (Oct. 26, 2015); In re Petition of Korea Exchange, Inc. for Exemption from Registration as a Derivatives Clearing Organization (Oct. 26, 2015); In re Petition of OTC Clearing Hong Kong Ltd. for Exemption from Registration as a Derivatives Clearing Organization (Dec. 21, 2015); In re Application of Taiwan Futures Exchange Corporation for Exemption from Registration as a Derivatives Clearing Organization (Feb. 14, 2024). 13 See Registration With Alternative Compliance for Non-U.S. Derivatives Clearing Organizations, 85 Fed. Reg. 67160 (Oct. 21, 2020). 14 See Exemption From Derivatives Clearing Organization Registration, 86 Fed. Reg. 949 (Jan. 7, 2021). Page 5 Consistent with this approach, and for the reasons discussed below in this letter, the Division has determined to issue this no-action letter with regard to the application of certain Commission regulations to discrete aspects of a DCO/CCP’s non-U.S. clearing activities. Discussion of Limited No-Action Position The Division acknowledges that clearing organizations operate in different jurisdictions and under different regulatory regimes and that the differences between these various regimes may lead to regulatory arbitrage. Previously, and as discussed above, the Commission provided exemptions to registration for foreign-based DCOs who clear proprietary swaps positions for their U.S. members and affiliates but that do not clear for U.S. customers generally. (These foreign-based DCOs also do not clear futures traded on DCMs.) These exemptions have been issued pursuant to Section 5b(h) of the CEA, which permits the Commission to exempt a clearing organization from DCO registration for the clearing of swaps where the Commission determines that such clearing organization is subject to comparable, comprehensive supervision by appropriate government authorities in the clearing organization’s home country.15 Pursuant to this authority, the Commission granted exemptions to clearing organizations in Australia, Japan, South Korea, Hong Kong, and Taiwan. Each of these exemptions require that each exempt CCP limit direct clearing by U.S. persons and FCMs to certain specified circumstances.16 Thus, consistent with the interests of comity and facilitating cross-border regulatory coordination, the Division has determined to issue this no-action letter with regard to the application of certain Commission regulations to discrete aspects of a DCO/CCP’s non-U.S. clearing activities, subject to the restrictions identified below. 1. Regulation 39.12(b)(6) Regulation 39.12(b)(6) requires that, upon a DCO’s acceptance of a swap for clearing, the original swap is extinguished and it is replaced by an equal and opposite swap between the DCO and each clearing member acting as a principal for a house trade or an agent for a customer trade. For the reasons set forth above, the Division will not require DCOs/CCPs to apply this “futures clearing model” to trades where neither party is a U.S. clearing member or an FCM clearing member. 2. Part 22 of CFTC’s Regulations 15 7 USC § 7a-1(h). 16 In particular, the Commission requires that each CCP maintain rules that limit clearing services for U.S. persons and FCMs to the following circumstances: (1) “A U.S. person that is a clearing member of the exempt [CCP] may clear swaps for itself and those persons identified in the definition of ‘proprietary account’ set forth in § 1.3”; (2) “A non-U.S. person that is a clearing member of the exempt [CCP] may clear swaps for any affiliated U.S. person identified in the definition of ‘proprietary account’ set forth in § 1.3”; and (3) “An entity that is registered with the Commission as [an FCM] may be a clearing member of the exempt [CCP], or otherwise maintain an account with an affiliated broker that is a clearing member, for the purpose of clearing swaps for itself and those persons identified in the definition of ‘proprietary account’ set forth in § 1.3.” See 17 CFR § 39.6(b)(1). Page 6 Part 22 of the CFTC’s Regulations sets forth the LSOC account model for cleared swaps customer accounts. For the reasons set forth above, the Division will not require DCOs/CCPs to apply Part 22’s LSOC account model to their clearing members that are not FCMs. 3. Regulation 39.13(g)(8)(i) Regulation 39.13(g)(8)(i) requires that initial margin for customer accounts cleared by an FCM must be calculated and collected on a gross basis. Regulation 39.13(g)(8)(i) further prohibits a DCO from permitting FCM clearing members to net customer positions. For the reasons set forth above, the Division will not require DCOs/CCPs to apply this regulation to non-FCM clearing member intermediaries. 4. Regulation 39.13(g)(8)(ii) Regulation 39.13(g)(8)(ii) requires a DCO to collect initial margin at a level that is greater than 100% of the DCO’s initial margin requirements for the non-hedge positions of FCM customers. For the reasons set forth above, the Division will not require DCOs/CCPs to apply this regulation to such non-hedge positions of the customers of non-FCM clearing member intermediaries. 5. Regulation 39.12(a)(2)(iii) Regulation 39.12(a)(2)(iii) prohibits a DCO from setting a minimum capital requirement of more than $50 million for any person that seeks to become a clearing member to clear swaps. Regulation 39.12(a)(2)(iii) is designed to ensure that participation requirements do not unreasonably restrict any entity from becoming a clearing member while, at the same time, limiting risk to the DCO and its clearing members. For the reasons set forth above, the Division will not require DCO/CCPs to apply this requirement to non-U.S. clearing members or non-FCM clearing members. 6. Regulation 39.12(b)(7) Regulation 39.12(b)(7) requires “straight-through-processing” of swaps submitted for clearing. For the reasons set forth above, the Division will not require DCOs/CCPs to apply straight-through-processing requirements to trades that are not executed on or subject to the rules of a DCM or a SEF and for which neither clearing member is an FCM, a swap dealer, or a major swap participant. 7. Regulation 39.13(h)(5) Page 7 Regulation 39.13(h)(5) requires DCOs to require that their clearing members maintain written risk management policies and procedures and further requires that DCOs must have the authority to obtain information and documents from clearing members regarding their risk. For the reasons set forth above, although Regulation 39.13(h)(5) will still apply, the Division will permit DCOs/CCPs to implement different oversight programs for U.S./FCM clearing members and non-U.S. clearing members. Conclusion The positions set forth above represent the views of the Division only, and do not necessarily represent the position or view of the Commission or of any other office or division of the Commission. The no-action position taken herein does not bind the Commission or Commission staff outside of the Division. The staff positions taken in this letter do not excuse persons relying on it from compliance with any other applicable requirements contained in the CEA or in Commission regulations. Further, this letter, and the positions taken herein, are based upon the facts and circumstances presented to the Division and upon the Division’s understanding of the regulatory provisions applicable in the EU and in the UK. Any different, changed, or omitted material facts or circumstances may render the staff positions in this letter void.\n",
      "\n",
      "Definitions found:\n",
      "swap means extinguished and it is replaced by an equal and opposite swap between the DCO and each clearing member acting as a principal for a house trade or an agent for a customer trade\n",
      "that means greater than 100% of the DCO’s initial margin requirements for the non-hedge positions of FCM customers\n",
      "member means an FCM, a swap dealer, or a major swap participant\n",
      "position means no longer needed with respect to these provisions because, following the 2020 amendment of Regulation 39\n",
      "what means referred to as “UK EMIR\n",
      "DCOs means equivalent to the UK’s regime for the regulation of CCPs set forth in UK EMIR\n",
      "Division means extending the no-action position taken in CFTC Letter 16-26 to UK-based DCOs\n",
      "which means based in London, for example, has been registered with the Commission since 2001, and thus has been subject to dual supervision by UK authorities and the Commission since long before the EU adopted its current regulatory scheme – EMIR\n",
      "regulator means the Alberta Securities Commission) and Eurex Clearing AG (home country regulators are Bundesanstalt für Finanzdienstleistungsaufsicht (BaFin) and Deutsche Bundesbank)\n",
      "persons means an important part of the Commission’s regulatory scheme\n",
      "determination means an example of this approach\n",
      "organization means subject to comparable, comprehensive supervision by appropriate government authorities in the clearing organization’s home country\n",
      "party means a U\n",
      "\n",
      "Legal-BERT processing complete. Output shape: (768,)\n",
      "\n",
      "Generated Summary:\n",
      "Page 2 initial margin for customer accounts cleared by an FCM on a gross basis will not apply in the context of a DCO/CCP to non-FCM clearing member intermediaries; (4) Regulation 39.13(g)(8)(ii)’s requirement that a DCO collect initial margin at a level that is not less than 100% of the DCO’s clearing initial margin requirements for positions of FCM customers will not apply in the context of a DCO/CCP to such positions of the customers of non-FCM clearing member intermediaries; (5) Regulation 39.12(a)(2)(iii)’s prohibition that a DCO not set a minimum capital requirement of more than $50 million for any person that seeks to become a clearing member to clear swaps will not apply in the context of a DCO/CCP to non-U.S. clearing members or non-FCM clearing members; (6) Regulation 39.12(b)(7)’s requirement that DCOs utilize “straight-through-processing” of swaps submitted for clearing will not apply to trades that are not executed on or subject to the rules of a designated contract market (“DCM”) or a swap execution facility (“SEF”) and for which neither clearing member is an FCM, a swap dealer, or a major swap participant; and (7) Regulation 39.13(h)(5)’s requirement that DCOs must require their clearing members to maintain written risk management policies and procedures and that DCOs must have the authority to obtain information and documents from clearing members regarding their risk will still apply; however, a DCO/CCP may implement different oversight programs for U.S./FCM clearing members and non-U.S. clearing members.2 CFTC Letter 16-26 was issued simultaneously with the Commission’s comparability determination3 regarding the European Market Infrastructure Regulation (“EMIR”)4 (the “EU comparability determination”). This letter addresses the same Commission requirements discussed in CFTC Letter 16-26 for EU-based DCOs and extends the no-action position taken therein to DCOs based in the United Kingdom (“UK”) that are registered with the Commission (together “DCOs/CCPs”): (1) Regulation 39.12(b)(6)’s requirement that, upon a DCO’s acceptance of a swap for clearing, the original swap is extinguished and it is replaced by an equal and opposite swap between the DCO and each clearing member (acting as a principal for a house trade or an agent for a customer trade) will not apply in the context of a DCO/CCP where neither party is a U.S. clearing member or a futures commission merchant (“FCM”) clearing member; (2) Part 22 of CFTC Regulations and its “legally segregated but operationally commingled” (“LSOC”) account model for cleared swaps customer accounts will not apply in the context of a DCO/CCP to clearing members that are not FCMs; (3) Regulation 39.13(g)(8)(i)’s requirement that a DCO calculate and collect 1 CFTC Letter No. For the reasons set forth above, the Division will not require DCOs/CCPs to apply straight-through-processing requirements to trades that are not executed on or subject to the rules of a DCM or a SEF and for which neither clearing member is an FCM, a swap dealer, or a major swap participant.\n"
     ]
    }
   ],
   "source": [
    "from transformers import AutoTokenizer, AutoModel\n",
    "import torch\n",
    "import numpy as np\n",
    "from sklearn.feature_extraction.text import TfidfVectorizer\n",
    "from sklearn.metrics.pairwise import cosine_similarity\n",
    "import nltk\n",
    "import re \n",
    "import pandas as pd \n",
    "# Specify the directory where punkt is already downloaded\n",
    "nltk_data_dir = r\"D:/Data/OneDrive/Ccantu/OneDrive - CFTC/Documents/Python Scripts/punkt\"\n",
    "\n",
    "# Add the directory to NLTK's data path\n",
    "nltk.data.path.append(nltk_data_dir)\n",
    "\n",
    "def load_local_legal_bert():\n",
    "    model_path = r\"D:/Data/OneDrive/Ccantu/OneDrive - CFTC\\Documents/Python Scripts/BERT-Legal\"\n",
    "    print(f\"Loading the Legal-BERT model from '{model_path}'...\")\n",
    "    \n",
    "    tokenizer = AutoTokenizer.from_pretrained(model_path)\n",
    "    model = AutoModel.from_pretrained(model_path)\n",
    "\n",
    "    print(\"Legal-BERT model loaded successfully!\")\n",
    "    return tokenizer, model\n",
    "# tuning\n",
    "def extract_definitions(text):\n",
    "    definition_pattern = r\"(?P<term>\\w+)\\s+(?:is|means)\\s+(?P<definition>.*?)[;.]\" # looking for definition patterns \n",
    "    definitions = {}\n",
    "    for match in re.finditer(definition_pattern, text, re.IGNORECASE):\n",
    "        term = match.group(\"term\")\n",
    "        definition = match.group(\"definition\").strip()\n",
    "        definitions[term] = definition\n",
    "    return definitions\n",
    "# Tuning\n",
    "def score_sentence(sentence, definitions, tfidf_matrix, sentence_similarities):\n",
    "    score = 0\n",
    "    for term, definition in definitions.items():\n",
    "        if term in sentence or definition in sentence: \n",
    "            score += sentence_similarities[0,1] # may need to change assume first senetence is important \n",
    "    return score \n",
    "\n",
    "def extractive_summarize(text, num_sentences=3):\n",
    "    sentences = nltk.sent_tokenize(text)\n",
    "    definitions = extract_definitions(text) \n",
    "\n",
    "    # Create TF-IDF matrix\n",
    "    vectorizer = TfidfVectorizer()\n",
    "    tfidf_matrix = vectorizer.fit_transform(sentences)\n",
    "    \n",
    "    # Compute sentence similarities\n",
    "    sentence_similarities = cosine_similarity(tfidf_matrix, tfidf_matrix)\n",
    "    \n",
    "    # Rank sentences based on similarity scores\n",
    "    sentence_scores = [score_sentence(sentence, definitions, tfidf_matrix, sentence_similarities) for sentence in sentences]\n",
    "    ranked_sentences = [sentences[i] for i in np.argsort(sentence_scores)[::-1]]\n",
    "    \n",
    "    # Select top sentences\n",
    "    summary = ' '.join(ranked_sentences[:num_sentences])\n",
    "    return summary\n",
    "\n",
    "def process_with_legal_bert(text, tokenizer, model):\n",
    "    inputs = tokenizer(text, return_tensors=\"pt\", padding=True, truncation=True, max_length=512)\n",
    "    with torch.no_grad():\n",
    "        outputs = model(**inputs)\n",
    "    return outputs.last_hidden_state.mean(dim=1).squeeze().numpy()\n",
    "\n",
    "def search_document(text, search_term):\n",
    "    sentences = nltk.sent_tokenize(text)\n",
    "    matches = []\n",
    "    for sentence in sentences:\n",
    "        if re.search(search_term, sentence, re.IGNORECASE):\n",
    "            matches.append(sentence)\n",
    "    return matches\n",
    "\n",
    "# Load Legal-BERT\n",
    "legal_bert_tokenizer, legal_bert_model = load_local_legal_bert()\n",
    "\n",
    "# Example legal text\n",
    "# text = \"\"\"\n",
    "\n",
    "# Except where otherwise expressly provided in this Covenant or by the terms of the present Treaty, decisions at any meeting of the Assembly or of the Council shall require the agreement of all the Members of the League represented atthe meeting. All matters of procedure at meetings of the Assembly or of the Council, including the appointment of Committees to investigate particular matters, shall be regulated by the Assembly orby the Council and may be decided by a majority of the Members of the League represented at the meeting. Thefirst meeting of the Assembly and the first meeting of the Council shall be summoned by the President of the United States of America.\n",
    "# \"\"\"\n",
    "text = input(\"Enter the legal text: \")\n",
    "\n",
    "print(\"\\nOriginal text:\")\n",
    "print(text)\n",
    "\n",
    "# Extract definitions\n",
    "definitions = extract_definitions(text)\n",
    "print(\"\\nDefinitions found:\")\n",
    "for term, definition in definitions.items():\n",
    "    print(f\"{term} means {definition}\")\n",
    "\n",
    "# Process with Legal-BERT\n",
    "bert_output = process_with_legal_bert(text, legal_bert_tokenizer, legal_bert_model)\n",
    "print(\"\\nLegal-BERT processing complete. Output shape:\", bert_output.shape)\n",
    "\n",
    "# Generate summary\n",
    "summary = extractive_summarize(text)\n",
    "print(\"\\nGenerated Summary:\")\n",
    "print(summary)\n",
    "\n",
    "# while True:\n",
    "#     search_term = input(\"\\Enter a search term (or q to exit):\")\n",
    "#     if search_term.lower() == 'q':\n",
    "#         break \n",
    "#     matches = search_document(text, search_term)\n",
    "#     if matches:\n",
    "#         print(f\"\\nFound {len(matches)} match(es) for '{search_term}':\")\n",
    "#         for i, match in enumerate(matches, 1):\n",
    "#             print(f\"{i}. {match}\")\n",
    "#     else:\n",
    "#         print(f\"No matches found for '{search_term}'.\")\n",
    "\n",
    "#print(\"Thank you for using the Legal-BERT search tool!\")"
   ]
  },
  {
   "cell_type": "markdown",
   "metadata": {},
   "source": [
    "## train  the gpt model on the on extracted defininions "
   ]
  },
  {
   "cell_type": "code",
   "execution_count": 18,
   "metadata": {},
   "outputs": [
    {
     "name": "stdout",
     "output_type": "stream",
     "text": [
      "Definitions written to definitions.csv\n"
     ]
    }
   ],
   "source": [
    "# import csv\n",
    "# def write_definitions_to_csv(definitions, filename='definitions.csv'):\n",
    "#     with open(filename, 'w', newline='', encoding='utf-8') as csvfile:\n",
    "#         writer = csv.writer(csvfile)\n",
    "#         writer.writerow(['Term', 'Definition', 'Simplified'])  # Write header\n",
    "#         for term, definition in definitions.items():\n",
    "#             writer.writerow([term, definition, ''])  # Leave 'Simplified' column empty\n",
    "\n",
    "# # After your existing code that extracts definitions, add:\n",
    "# write_definitions_to_csv(definitions)\n",
    "# print(\"Definitions written to definitions.csv\")"
   ]
  },
  {
   "cell_type": "markdown",
   "metadata": {},
   "source": [
    "## layperson summary using gpt model "
   ]
  },
  {
   "cell_type": "code",
   "execution_count": 2,
   "metadata": {},
   "outputs": [
    {
     "name": "stderr",
     "output_type": "stream",
     "text": [
      "Setting `pad_token_id` to `eos_token_id`:50256 for open-end generation.\n"
     ]
    },
    {
     "name": "stdout",
     "output_type": "stream",
     "text": [
      "\n",
      "Simplified Summary for Laypeople:\n",
      "In addition, DCAs/CAs may adopt other risk-management practices.5 CFTA Letter 17-3 was adopted by the Office of Management and Budget (OMB) in July 2017, and was effective for the initial six months of operation. The OMB letter does not address the comparable determination, nor does it contain a full explanation of all of its provisions.6 On October 5, 2017 the CFSA adopted a similar proposal (CFSA Letter 18-5), which is effective October 1, 2018.7 The CFDA also adopted the equivalent of Section 6.1 of § 1.4 of this final rule, which was amended on November 21, 2016 to increase the amount of initial capital required to be reported on Form 10-K to $5 million, from $3 million.8 This change is in line with previous CFTP/CFDA guidance that required a noncomplying clearing account to have an initial balance of at least $10 million and an aggregate capital\n"
     ]
    }
   ],
   "source": [
    "from transformers import AutoModelForCausalLM, AutoTokenizer\n",
    "\n",
    "def simplify_summary_for_layperson(summary, gpt2_model, gpt2_tokenizer):\n",
    "    input_text = f\"Simplify this legal text for a layperson: {summary}\"\n",
    "    inputs = gpt2_tokenizer(input_text, return_tensors='pt')\n",
    "    \n",
    "    outputs = gpt2_model.generate(\n",
    "        **inputs,\n",
    "        max_length=len(inputs['input_ids'][0]) + 200,\n",
    "        num_return_sequences=1,\n",
    "        no_repeat_ngram_size=2,\n",
    "        temperature=0.7,\n",
    "        top_k=50,\n",
    "        top_p=0.95,\n",
    "        do_sample=True\n",
    "    )\n",
    "    \n",
    "    simplified_summary = gpt2_tokenizer.decode(outputs[0], skip_special_tokens=True)\n",
    "    simplified_summary = simplified_summary.replace(input_text, \"\").strip()\n",
    "    \n",
    "    return simplified_summary\n",
    "\n",
    "# Load GPT-2\n",
    "gpt2_model_path = r\"D:/Data/OneDrive/Ccantu/OneDrive - CFTC/Documents/Python Scripts/GPT2\"\n",
    "gpt2_model = AutoModelForCausalLM.from_pretrained(gpt2_model_path)\n",
    "gpt2_tokenizer = AutoTokenizer.from_pretrained(gpt2_model_path)\n",
    "\n",
    "\n",
    "\n",
    "# After generating the summary add:\n",
    "simplified_summary = simplify_summary_for_layperson(summary, gpt2_model, gpt2_tokenizer)\n",
    "print(\"\\nSimplified Summary for Laypeople:\")\n",
    "print(simplified_summary)\n"
   ]
  },
  {
   "cell_type": "code",
   "execution_count": null,
   "metadata": {},
   "outputs": [],
   "source": []
  }
 ],
 "metadata": {
  "kernelspec": {
   "display_name": "tron_data",
   "language": "python",
   "name": "python3"
  },
  "language_info": {
   "codemirror_mode": {
    "name": "ipython",
    "version": 3
   },
   "file_extension": ".py",
   "mimetype": "text/x-python",
   "name": "python",
   "nbconvert_exporter": "python",
   "pygments_lexer": "ipython3",
   "version": "3.11.9"
  }
 },
 "nbformat": 4,
 "nbformat_minor": 2
}
